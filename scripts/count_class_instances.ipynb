{
 "cells": [
  {
   "cell_type": "code",
   "execution_count": 1,
   "metadata": {},
   "outputs": [],
   "source": [
    "import os\n",
    "import numpy as np\n",
    "from PIL import Image"
   ]
  },
  {
   "cell_type": "code",
   "execution_count": 2,
   "metadata": {},
   "outputs": [],
   "source": [
    "class_labels = {\n",
    "  0: \"Unlabeled\",\n",
    "  1: \"Roads\",\n",
    "  2: \"SideWalks\",\n",
    "  3: \"Building\",\n",
    "  4: \"Wall\",\n",
    "  5: \"Fence\",\n",
    "  6: \"Pole\",\n",
    "  7: \"TrafficLight\",\n",
    "  8: \"TrafficSign\",\n",
    "  9: \"Vegetation\",\n",
    "  10: \"Terrain\",\n",
    "  11: \"Sky\",\n",
    "  12: \"Pedestrian\",\n",
    "  13: \"Rider\",\n",
    "  14: \"Car\",\n",
    "  15: \"Truck\",\n",
    "  16: \"Bus\",\n",
    "  17: \"Train\",\n",
    "  18: \"Motorcycle\",\n",
    "  19: \"Bicycle\",\n",
    "  20: \"Static\",\n",
    "  21: \"Dynamic\",\n",
    "  22: \"Other\",\n",
    "  23: \"Water\",\n",
    "  24: \"RoadLine\",\n",
    "  25: \"Ground\",\n",
    "  26: \"Bridge\",\n",
    "  27: \"RailTrack\",\n",
    "  28: \"GuardRail\"\n",
    "}\n",
    "\n",
    "seg_dir = '/Data/toledod/collectedData/walkerPath_1-6-25/_outSeg'\n",
    "class_count = {label: 0 for label in class_labels.values()}"
   ]
  },
  {
   "cell_type": "code",
   "execution_count": 3,
   "metadata": {},
   "outputs": [],
   "source": [
    "for file in os.listdir(seg_dir):\n",
    "  file = Image.open(os.path.join(seg_dir, file))\n",
    "  image_array = np.unique(np.array(file)[:,:,0].flatten())\n",
    "  for i in image_array:\n",
    "    class_count[class_labels[i]] += 1"
   ]
  },
  {
   "cell_type": "code",
   "execution_count": 4,
   "metadata": {},
   "outputs": [
    {
     "data": {
      "text/plain": [
       "{'Unlabeled': 94,\n",
       " 'Roads': 505,\n",
       " 'SideWalks': 505,\n",
       " 'Building': 505,\n",
       " 'Wall': 158,\n",
       " 'Fence': 199,\n",
       " 'Pole': 505,\n",
       " 'TrafficLight': 423,\n",
       " 'TrafficSign': 500,\n",
       " 'Vegetation': 490,\n",
       " 'Terrain': 316,\n",
       " 'Sky': 504,\n",
       " 'Pedestrian': 414,\n",
       " 'Rider': 0,\n",
       " 'Car': 505,\n",
       " 'Truck': 62,\n",
       " 'Bus': 0,\n",
       " 'Train': 0,\n",
       " 'Motorcycle': 144,\n",
       " 'Bicycle': 72,\n",
       " 'Static': 505,\n",
       " 'Dynamic': 502,\n",
       " 'Other': 500,\n",
       " 'Water': 169,\n",
       " 'RoadLine': 504,\n",
       " 'Ground': 376,\n",
       " 'Bridge': 0,\n",
       " 'RailTrack': 36,\n",
       " 'GuardRail': 0}"
      ]
     },
     "execution_count": 4,
     "metadata": {},
     "output_type": "execute_result"
    }
   ],
   "source": [
    "class_count"
   ]
  },
  {
   "cell_type": "code",
   "execution_count": null,
   "metadata": {},
   "outputs": [
    {
     "name": "stdout",
     "output_type": "stream",
     "text": [
      "dict_keys(['__header__', '__version__', '__globals__', 'colors'])\n",
      "{'__header__': b'MATLAB 5.0 MAT-file Platform: posix, Created on: Sat Nov 23 14:51:39 2024', '__version__': '1.0', '__globals__': [], 'colors': array([[  0,   0,   0],\n",
      "       [128,  64, 128],\n",
      "       [244,  35, 232],\n",
      "       [ 70,  70,  70],\n",
      "       [102, 102, 156],\n",
      "       [190, 153, 153],\n",
      "       [153, 153, 153],\n",
      "       [250, 170,  30],\n",
      "       [220, 220,   0],\n",
      "       [107, 142,  35],\n",
      "       [152, 251, 152],\n",
      "       [ 70, 130, 180],\n",
      "       [220,  20,  60],\n",
      "       [255,   0,   0],\n",
      "       [  0,   0, 142],\n",
      "       [  0,   0,  70],\n",
      "       [  0,  60, 100],\n",
      "       [  0,  80, 100],\n",
      "       [  0,   0, 230],\n",
      "       [119,  11,  32],\n",
      "       [110, 190, 160],\n",
      "       [170, 120,  50],\n",
      "       [ 55,  90,  80],\n",
      "       [ 45,  60, 150],\n",
      "       [157, 234,  50],\n",
      "       [ 81,   0,  81],\n",
      "       [150, 100, 100],\n",
      "       [230, 150, 140],\n",
      "       [180, 165, 180]])}\n"
     ]
    }
   ],
   "source": [
    "# from scipy.io import loadmat\n",
    "# import scipy.io as sio\n",
    "\n",
    "# # Load the .mat file\n",
    "# mat_data = loadmat('semantic-segmentation-pytorch/data/color_29.mat')\n",
    "\n",
    "# # Inspect the keys (variables in the .mat file)\n",
    "# keys = mat_data.keys()\n",
    "# print(mat_data.keys())\n",
    "\n",
    "# # Extract the color map\n",
    "# color_map = mat_data['colors']\n",
    "# # print(color_map)\n",
    "\n",
    "# print(mat_data)"
   ]
  },
  {
   "cell_type": "code",
   "execution_count": null,
   "metadata": {},
   "outputs": [],
   "source": []
  }
 ],
 "metadata": {
  "kernelspec": {
   "display_name": "base",
   "language": "python",
   "name": "python3"
  },
  "language_info": {
   "codemirror_mode": {
    "name": "ipython",
    "version": 3
   },
   "file_extension": ".py",
   "mimetype": "text/x-python",
   "name": "python",
   "nbconvert_exporter": "python",
   "pygments_lexer": "ipython3",
   "version": "3.12.2"
  }
 },
 "nbformat": 4,
 "nbformat_minor": 2
}
