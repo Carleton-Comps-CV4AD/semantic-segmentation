{
 "cells": [
  {
   "cell_type": "code",
   "execution_count": 4,
   "metadata": {},
   "outputs": [],
   "source": [
    "import numpy as np\n",
    "from PIL import Image\n",
    "import os"
   ]
  },
  {
   "cell_type": "code",
   "execution_count": 9,
   "metadata": {},
   "outputs": [],
   "source": [
    "directory = \"/Data/toledod/collectedData/trafficPath/_outSeg\""
   ]
  },
  {
   "cell_type": "code",
   "execution_count": 11,
   "metadata": {},
   "outputs": [],
   "source": [
    "classes = []\n",
    "for image in os.listdir(directory):\n",
    "    image = os.path.join(directory, image.split('/')[-1])\n",
    "    img_grey_flat = np.array(Image.open(image))[:,:,0].flatten()\n",
    "    for my_class in np.unique(img_grey_flat):\n",
    "        if my_class not in classes:\n",
    "            classes.append(my_class)\n",
    "    "
   ]
  },
  {
   "cell_type": "code",
   "execution_count": 12,
   "metadata": {},
   "outputs": [
    {
     "data": {
      "text/plain": [
       "[np.uint8(0),\n",
       " np.uint8(1),\n",
       " np.uint8(2),\n",
       " np.uint8(3),\n",
       " np.uint8(4),\n",
       " np.uint8(5),\n",
       " np.uint8(6),\n",
       " np.uint8(7),\n",
       " np.uint8(8),\n",
       " np.uint8(9),\n",
       " np.uint8(10),\n",
       " np.uint8(11),\n",
       " np.uint8(14),\n",
       " np.uint8(15),\n",
       " np.uint8(18),\n",
       " np.uint8(19),\n",
       " np.uint8(20),\n",
       " np.uint8(21),\n",
       " np.uint8(22),\n",
       " np.uint8(23),\n",
       " np.uint8(24),\n",
       " np.uint8(25),\n",
       " np.uint8(27)]"
      ]
     },
     "execution_count": 12,
     "metadata": {},
     "output_type": "execute_result"
    }
   ],
   "source": [
    "sorted(classes)"
   ]
  },
  {
   "cell_type": "code",
   "execution_count": null,
   "metadata": {},
   "outputs": [],
   "source": []
  }
 ],
 "metadata": {
  "kernelspec": {
   "display_name": "myenv",
   "language": "python",
   "name": "python3"
  },
  "language_info": {
   "codemirror_mode": {
    "name": "ipython",
    "version": 3
   },
   "file_extension": ".py",
   "mimetype": "text/x-python",
   "name": "python",
   "nbconvert_exporter": "python",
   "pygments_lexer": "ipython3",
   "version": "3.12.7"
  }
 },
 "nbformat": 4,
 "nbformat_minor": 2
}
