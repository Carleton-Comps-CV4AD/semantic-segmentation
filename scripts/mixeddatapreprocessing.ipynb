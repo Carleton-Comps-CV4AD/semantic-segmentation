{
 "cells": [
  {
   "cell_type": "code",
   "execution_count": 1,
   "metadata": {},
   "outputs": [],
   "source": [
    "import os\n",
    "import json\n",
    "import numpy as np\n",
    "from PIL import Image\n"
   ]
  },
  {
   "cell_type": "code",
   "execution_count": 2,
   "metadata": {},
   "outputs": [],
   "source": [
    "def train_validation_test_split(files_per_weather, train_percent=0.81):\n",
    "    \"\"\"Splits the dataset into train, validation, and test sets for each weather condition.\"\"\"\n",
    "    # assert train_percent + validation_percent + test_percent == 1.0, \"Splits must sum to 1.\"\n",
    "\n",
    "    train_files, validation_files, test_files = {}, {}, {}\n",
    "\n",
    "    # for weather, files in files_per_weather.items():\n",
    "    #     shuffled_files = np.random.permutation(files)  # Random shuffle\n",
    "\n",
    "    #     # if weather == \"_outRaw\":\n",
    "    #     train_files[weather] = shuffled_files[:1600]  # 1600 train\n",
    "    #     validation_files[weather] = shuffled_files[1600:1800]  # 200 validation\n",
    "    #     test_files[weather] = shuffled_files[1800:2000]  # 200 test\n",
    "    #     # else:\n",
    "    #     #     train_files[weather] = shuffled_files[:100]  # 100 train\n",
    "    #     #     validation_files[weather] = shuffled_files[100:112]  # 12 validation\n",
    "    #     #     test_files[weather] = shuffled_files[112:124]  # 12 test\n",
    "    for weather, files in files_per_weather.items():\n",
    "        shuffled_files = np.random.permutation(files)  # Random shuffle\n",
    "\n",
    "        train_size = int(len(files) * train_percent)\n",
    "        validation_size = int(len(files) - train_size) // 2\n",
    "        \n",
    "\n",
    "        train_files[weather] = shuffled_files[:train_size]\n",
    "        validation_files[weather] = shuffled_files[train_size:train_size + validation_size]\n",
    "        test_files[weather] = shuffled_files[train_size + validation_size:]\n",
    "\n",
    "    return train_files, validation_files, test_files"
   ]
  },
  {
   "cell_type": "code",
   "execution_count": 3,
   "metadata": {},
   "outputs": [
    {
     "name": "stdout",
     "output_type": "stream",
     "text": [
      "Train set sizes: {'rgb_foggy_day1': 17, 'rgb_foggy_day2': 17, 'rgb_foggy_day3': 17, 'rgb_foggy_day4': 17, 'rgb_foggy_day5': 17, 'rgb_foggy_day6': 17, 'rgb_foggy_day7': 17, 'rgb_foggy_day8': 17, 'rgb_foggy_day9': 17, 'rgb_foggy_day10': 17, 'rgb_foggy_day11': 17, 'rgb_foggy_day12': 17, 'rgb_foggy_day13': 17, 'rgb_foggy_day14': 17, 'rgb_foggy_day15': 17, 'rgb_foggy_day16': 17, 'rgb_foggy_day17': 17, 'rgb_foggy_day18': 17, 'rgb_foggy_day19': 17, 'rgb_foggy_day20': 17, 'rgb_foggy_day21': 17, 'rgb_foggy_day22': 17, 'rgb_foggy_day23': 17, 'rgb_foggy_day24': 17, 'rgb_foggy_day25': 17, 'rgb_foggy_day26': 17, 'rgb_foggy_day27': 17, 'rgb_foggy_day28': 17, 'rgb_foggy_day29': 17, 'rgb_foggy_day30': 17, 'rgb_foggy_day31': 17, 'rgb_foggy_day32': 17, 'rgb_foggy_day33': 17, 'rgb_foggy_day34': 17, 'rgb_foggy_day35': 17, 'rgb_foggy_day36': 17, 'rgb_foggy_day37': 17, 'rgb_foggy_day38': 17, 'rgb_foggy_day39': 17, 'rgb_foggy_day40': 17, 'rgb_foggy_day41': 17, 'rgb_foggy_day42': 17, 'rgb_foggy_day43': 17, 'rgb_foggy_day44': 17, 'rgb_foggy_day45': 17, 'rgb_foggy_day46': 17, 'rgb_foggy_day47': 17, 'rgb_foggy_day48': 17, 'rgb_foggy_day49': 17, 'rgb_foggy_day50': 17, 'rgb_foggy_day51': 17, 'rgb_foggy_day52': 17, 'rgb_foggy_day53': 17, 'rgb_foggy_day54': 17, 'rgb_foggy_day55': 17, 'rgb_foggy_day56': 17, 'rgb_foggy_day57': 17, 'rgb_foggy_day58': 17, 'rgb_foggy_day59': 17, 'rgb_foggy_day60': 17, 'rgb_foggy_day61': 17, 'rgb_foggy_day62': 17, 'rgb_foggy_day63': 17, 'rgb_foggy_day64': 17, 'rgb_foggy_day65': 17, 'rgb_foggy_day66': 17, 'rgb_foggy_day67': 17, 'rgb_foggy_day68': 17, 'rgb_foggy_day69': 17, 'rgb_foggy_day70': 17, 'rgb_foggy_day71': 17, 'rgb_foggy_day72': 17, 'rgb_foggy_day73': 17, 'rgb_foggy_day74': 17, 'rgb_foggy_day75': 17, 'rgb_foggy_day76': 17, 'rgb_foggy_day77': 17, 'rgb_foggy_day78': 17, 'rgb_foggy_day79': 17, 'rgb_foggy_day80': 17, 'rgb_foggy_day81': 17, 'rgb_foggy_day82': 17, 'rgb_foggy_day83': 17, 'rgb_foggy_day84': 17, 'rgb_foggy_day85': 17, 'rgb_foggy_day86': 17, 'rgb_foggy_day87': 17, 'rgb_foggy_day88': 17, 'rgb_foggy_day89': 17, 'rgb_foggy_day90': 17, 'rgb_foggy_day91': 17, 'rgb_foggy_day92': 17, 'rgb_foggy_day93': 17, 'rgb_foggy_day94': 17, 'rgb_foggy_day95': 17}\n",
      "Validation set sizes: {'rgb_foggy_day1': 2, 'rgb_foggy_day2': 2, 'rgb_foggy_day3': 2, 'rgb_foggy_day4': 2, 'rgb_foggy_day5': 2, 'rgb_foggy_day6': 2, 'rgb_foggy_day7': 2, 'rgb_foggy_day8': 2, 'rgb_foggy_day9': 2, 'rgb_foggy_day10': 2, 'rgb_foggy_day11': 2, 'rgb_foggy_day12': 2, 'rgb_foggy_day13': 2, 'rgb_foggy_day14': 2, 'rgb_foggy_day15': 2, 'rgb_foggy_day16': 2, 'rgb_foggy_day17': 2, 'rgb_foggy_day18': 2, 'rgb_foggy_day19': 2, 'rgb_foggy_day20': 2, 'rgb_foggy_day21': 2, 'rgb_foggy_day22': 2, 'rgb_foggy_day23': 2, 'rgb_foggy_day24': 2, 'rgb_foggy_day25': 2, 'rgb_foggy_day26': 2, 'rgb_foggy_day27': 2, 'rgb_foggy_day28': 2, 'rgb_foggy_day29': 2, 'rgb_foggy_day30': 2, 'rgb_foggy_day31': 2, 'rgb_foggy_day32': 2, 'rgb_foggy_day33': 2, 'rgb_foggy_day34': 2, 'rgb_foggy_day35': 2, 'rgb_foggy_day36': 2, 'rgb_foggy_day37': 2, 'rgb_foggy_day38': 2, 'rgb_foggy_day39': 2, 'rgb_foggy_day40': 2, 'rgb_foggy_day41': 2, 'rgb_foggy_day42': 2, 'rgb_foggy_day43': 2, 'rgb_foggy_day44': 2, 'rgb_foggy_day45': 2, 'rgb_foggy_day46': 2, 'rgb_foggy_day47': 2, 'rgb_foggy_day48': 2, 'rgb_foggy_day49': 2, 'rgb_foggy_day50': 2, 'rgb_foggy_day51': 2, 'rgb_foggy_day52': 2, 'rgb_foggy_day53': 2, 'rgb_foggy_day54': 2, 'rgb_foggy_day55': 2, 'rgb_foggy_day56': 2, 'rgb_foggy_day57': 2, 'rgb_foggy_day58': 2, 'rgb_foggy_day59': 2, 'rgb_foggy_day60': 2, 'rgb_foggy_day61': 2, 'rgb_foggy_day62': 2, 'rgb_foggy_day63': 2, 'rgb_foggy_day64': 2, 'rgb_foggy_day65': 2, 'rgb_foggy_day66': 2, 'rgb_foggy_day67': 2, 'rgb_foggy_day68': 2, 'rgb_foggy_day69': 2, 'rgb_foggy_day70': 2, 'rgb_foggy_day71': 2, 'rgb_foggy_day72': 2, 'rgb_foggy_day73': 2, 'rgb_foggy_day74': 2, 'rgb_foggy_day75': 2, 'rgb_foggy_day76': 2, 'rgb_foggy_day77': 2, 'rgb_foggy_day78': 2, 'rgb_foggy_day79': 2, 'rgb_foggy_day80': 2, 'rgb_foggy_day81': 2, 'rgb_foggy_day82': 2, 'rgb_foggy_day83': 2, 'rgb_foggy_day84': 2, 'rgb_foggy_day85': 2, 'rgb_foggy_day86': 2, 'rgb_foggy_day87': 2, 'rgb_foggy_day88': 2, 'rgb_foggy_day89': 2, 'rgb_foggy_day90': 2, 'rgb_foggy_day91': 2, 'rgb_foggy_day92': 2, 'rgb_foggy_day93': 2, 'rgb_foggy_day94': 2, 'rgb_foggy_day95': 2}\n",
      "Test set sizes: {'rgb_foggy_day1': 2, 'rgb_foggy_day2': 2, 'rgb_foggy_day3': 2, 'rgb_foggy_day4': 2, 'rgb_foggy_day5': 2, 'rgb_foggy_day6': 2, 'rgb_foggy_day7': 2, 'rgb_foggy_day8': 2, 'rgb_foggy_day9': 2, 'rgb_foggy_day10': 2, 'rgb_foggy_day11': 2, 'rgb_foggy_day12': 2, 'rgb_foggy_day13': 2, 'rgb_foggy_day14': 2, 'rgb_foggy_day15': 2, 'rgb_foggy_day16': 2, 'rgb_foggy_day17': 2, 'rgb_foggy_day18': 2, 'rgb_foggy_day19': 2, 'rgb_foggy_day20': 2, 'rgb_foggy_day21': 2, 'rgb_foggy_day22': 2, 'rgb_foggy_day23': 2, 'rgb_foggy_day24': 2, 'rgb_foggy_day25': 2, 'rgb_foggy_day26': 2, 'rgb_foggy_day27': 2, 'rgb_foggy_day28': 2, 'rgb_foggy_day29': 2, 'rgb_foggy_day30': 2, 'rgb_foggy_day31': 2, 'rgb_foggy_day32': 2, 'rgb_foggy_day33': 2, 'rgb_foggy_day34': 2, 'rgb_foggy_day35': 2, 'rgb_foggy_day36': 2, 'rgb_foggy_day37': 2, 'rgb_foggy_day38': 2, 'rgb_foggy_day39': 2, 'rgb_foggy_day40': 2, 'rgb_foggy_day41': 2, 'rgb_foggy_day42': 2, 'rgb_foggy_day43': 2, 'rgb_foggy_day44': 2, 'rgb_foggy_day45': 2, 'rgb_foggy_day46': 2, 'rgb_foggy_day47': 2, 'rgb_foggy_day48': 2, 'rgb_foggy_day49': 2, 'rgb_foggy_day50': 2, 'rgb_foggy_day51': 2, 'rgb_foggy_day52': 2, 'rgb_foggy_day53': 2, 'rgb_foggy_day54': 2, 'rgb_foggy_day55': 2, 'rgb_foggy_day56': 2, 'rgb_foggy_day57': 2, 'rgb_foggy_day58': 2, 'rgb_foggy_day59': 2, 'rgb_foggy_day60': 2, 'rgb_foggy_day61': 2, 'rgb_foggy_day62': 2, 'rgb_foggy_day63': 2, 'rgb_foggy_day64': 2, 'rgb_foggy_day65': 2, 'rgb_foggy_day66': 2, 'rgb_foggy_day67': 2, 'rgb_foggy_day68': 2, 'rgb_foggy_day69': 2, 'rgb_foggy_day70': 2, 'rgb_foggy_day71': 2, 'rgb_foggy_day72': 2, 'rgb_foggy_day73': 2, 'rgb_foggy_day74': 2, 'rgb_foggy_day75': 2, 'rgb_foggy_day76': 2, 'rgb_foggy_day77': 2, 'rgb_foggy_day78': 2, 'rgb_foggy_day79': 2, 'rgb_foggy_day80': 2, 'rgb_foggy_day81': 2, 'rgb_foggy_day82': 2, 'rgb_foggy_day83': 2, 'rgb_foggy_day84': 2, 'rgb_foggy_day85': 2, 'rgb_foggy_day86': 2, 'rgb_foggy_day87': 2, 'rgb_foggy_day88': 2, 'rgb_foggy_day89': 2, 'rgb_foggy_day90': 2, 'rgb_foggy_day91': 2, 'rgb_foggy_day92': 2, 'rgb_foggy_day93': 2, 'rgb_foggy_day94': 2, 'rgb_foggy_day95': 2}\n",
      "Skipping missing file: 365.png\n",
      "Lines in train.odgt: 1614\n",
      "Lines in validate.odgt: 190\n",
      "Lines in test.odgt: 190\n"
     ]
    }
   ],
   "source": [
    "def make_odgt(raw_folders, seg_folders, train_files, validate_files, test_files, output_dir):\n",
    "    os.makedirs(output_dir, exist_ok=True)\n",
    "\n",
    "    datasets = {\n",
    "        'train': train_files,\n",
    "        'validate': validate_files,\n",
    "        'test': test_files\n",
    "    }\n",
    "    \n",
    "    \n",
    "    for key, file_dict in datasets.items():\n",
    "        with open(os.path.join(output_dir, f'{key}.odgt'), 'w', encoding='utf-8') as odgt_file:\n",
    "            for weather, files in file_dict.items():  # Iterate over each weather condition\n",
    "                for raw in files:\n",
    "                    raw_path = os.path.abspath(os.path.join(raw_folders[weather], raw))\n",
    "                    ann_path = os.path.abspath(os.path.join(seg_folders[weather], raw))\n",
    "\n",
    "                    if not os.path.exists(raw_path) or not os.path.exists(ann_path):\n",
    "                        print(f\"Skipping missing file: {raw_path}\")\n",
    "                        continue\n",
    "\n",
    "                    raw_img = Image.open(raw_path)\n",
    "                    ann_img = Image.open(ann_path)\n",
    "                    assert raw_img.size == ann_img.size, f\"Size mismatch for {raw} in {weather}\"\n",
    "\n",
    "                    odgt_line = json.dumps({\n",
    "                        \"fpath_img\": raw_path,\n",
    "                        \"fpath_segm\": ann_path,\n",
    "                        \"width\": raw_img.width,\n",
    "                        \"height\": raw_img.height,\n",
    "                        \"weather\": weather  # Store weather condition\n",
    "                    })\n",
    "\n",
    "                    \n",
    "                    odgt_file.write(odgt_line + '\\n')\n",
    "\n",
    "    \n",
    "\n",
    "# Define paths\n",
    "data_root_dir = '/home/zhaob/Desktop/semantic-segmentation-pytorch/new_data'\n",
    "# weather_conditions = [\"_outRaw\", \"_outRaw_foggy\", \"_outRaw_night\"]\n",
    "# weather_conditions = [\"_outRaw_\", \"_outRaw_foggy\"]\n",
    "weather_conditions_raw = [f\"rgb_foggy_day{i}\" for i in range(1, 96)]\n",
    "raw_folders = {w: os.path.join(data_root_dir, w) for w in weather_conditions_raw}\n",
    "weather_conditions_seg = [f\"rgb_seg_foggy_day_{i}\" for i in range(1, 96)]\n",
    "seg_folders = {f\"rgb_foggy_day{i}\": os.path.join(data_root_dir, f\"rgb_seg_foggy_day_{i}\") for i in range(1, 96)}\n",
    "\n",
    "# Collect only valid image files\n",
    "files_per_weather = {\n",
    "    w: sorted([f for f in os.listdir(raw_folders[w]) if f.endswith('.png')])\n",
    "    for w in weather_conditions_raw\n",
    "}\n",
    "\n",
    "# Perform dataset split\n",
    "train, validate, test = train_validation_test_split(files_per_weather)\n",
    "\n",
    "print(f\"Train set sizes: { {w: len(train[w]) for w in train} }\")\n",
    "print(f\"Validation set sizes: { {w: len(validate[w]) for w in validate} }\")\n",
    "print(f\"Test set sizes: { {w: len(test[w]) for w in test} }\")\n",
    "\n",
    "# Create ODGT\n",
    "make_odgt(raw_folders, seg_folders, train, validate, test, 'odgt')\n",
    "\n",
    "print(f\"Lines in train.odgt: {sum(1 for _ in open('odgt/train.odgt', 'r', encoding='utf-8'))}\")\n",
    "print(f\"Lines in validate.odgt: {sum(1 for _ in open('odgt/validate.odgt', 'r', encoding='utf-8'))}\")\n",
    "print(f\"Lines in test.odgt: {sum(1 for _ in open('odgt/test.odgt', 'r', encoding='utf-8'))}\")"
   ]
  },
  {
   "cell_type": "code",
   "execution_count": null,
   "metadata": {},
   "outputs": [],
   "source": []
  },
  {
   "cell_type": "code",
   "execution_count": null,
   "metadata": {},
   "outputs": [],
   "source": []
  }
 ],
 "metadata": {
  "kernelspec": {
   "display_name": "cv4ad",
   "language": "python",
   "name": "python3"
  },
  "language_info": {
   "codemirror_mode": {
    "name": "ipython",
    "version": 3
   },
   "file_extension": ".py",
   "mimetype": "text/x-python",
   "name": "python",
   "nbconvert_exporter": "python",
   "pygments_lexer": "ipython3",
   "version": "3.12.8"
  }
 },
 "nbformat": 4,
 "nbformat_minor": 2
}
