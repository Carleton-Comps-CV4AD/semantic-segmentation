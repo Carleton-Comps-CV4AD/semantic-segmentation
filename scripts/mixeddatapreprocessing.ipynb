{
 "cells": [
  {
   "cell_type": "code",
   "execution_count": 28,
   "metadata": {},
   "outputs": [],
   "source": [
    "import os\n",
    "import json\n",
    "import numpy as np\n",
    "from PIL import Image\n"
   ]
  },
  {
   "cell_type": "code",
   "execution_count": 29,
   "metadata": {},
   "outputs": [],
   "source": [
    "def train_validation_test_split(files_per_weather, train_percent=0.81):\n",
    "    \"\"\"Splits the dataset into train, validation, and test sets for each weather condition.\"\"\"\n",
    "    # assert train_percent + validation_percent + test_percent == 1.0, \"Splits must sum to 1.\"\n",
    "\n",
    "    train_files, validation_files, test_files = {}, {}, {}\n",
    "\n",
    "    # for weather, files in files_per_weather.items():\n",
    "    #     shuffled_files = np.random.permutation(files)  # Random shuffle\n",
    "\n",
    "    #     # if weather == \"_outRaw\":\n",
    "    #     train_files[weather] = shuffled_files[:1600]  # 1600 train\n",
    "    #     validation_files[weather] = shuffled_files[1600:1800]  # 200 validation\n",
    "    #     test_files[weather] = shuffled_files[1800:2000]  # 200 test\n",
    "    #     # else:\n",
    "    #     #     train_files[weather] = shuffled_files[:100]  # 100 train\n",
    "    #     #     validation_files[weather] = shuffled_files[100:112]  # 12 validation\n",
    "    #     #     test_files[weather] = shuffled_files[112:124]  # 12 test\n",
    "    for weather, files in files_per_weather.items():\n",
    "        shuffled_files = np.random.permutation(files)  # Random shuffle\n",
    "\n",
    "        train_size = int(len(files) * train_percent)\n",
    "        validation_size = int(len(files) - train_size) // 2\n",
    "        \n",
    "\n",
    "        train_files[weather] = shuffled_files[:train_size]\n",
    "        validation_files[weather] = shuffled_files[train_size:train_size + validation_size]\n",
    "        test_files[weather] = shuffled_files[train_size + validation_size:]\n",
    "\n",
    "    return train_files, validation_files, test_files"
   ]
  },
  {
   "cell_type": "code",
   "execution_count": 30,
   "metadata": {},
   "outputs": [
    {
     "name": "stdout",
     "output_type": "stream",
     "text": [
      "Train set sizes: {'rgb_clear_day_1': 17, 'rgb_clear_day_2': 17, 'rgb_clear_day_3': 17, 'rgb_clear_day_4': 17, 'rgb_clear_day_5': 17, 'rgb_clear_day_6': 17, 'rgb_clear_day_7': 17, 'rgb_clear_day_8': 17, 'rgb_clear_day_9': 17, 'rgb_clear_day_10': 17, 'rgb_clear_day_11': 17, 'rgb_clear_day_12': 17, 'rgb_clear_day_13': 17, 'rgb_clear_day_14': 17, 'rgb_clear_day_15': 17, 'rgb_clear_day_16': 17, 'rgb_clear_day_17': 17, 'rgb_clear_day_18': 17, 'rgb_clear_day_19': 17, 'rgb_clear_day_20': 17, 'rgb_clear_day_21': 17, 'rgb_clear_day_22': 17, 'rgb_clear_day_23': 17, 'rgb_clear_day_24': 17, 'rgb_clear_day_25': 17, 'rgb_clear_day_26': 17, 'rgb_clear_day_27': 17, 'rgb_clear_day_28': 17, 'rgb_clear_day_29': 17, 'rgb_clear_day_30': 17, 'rgb_clear_day_31': 17, 'rgb_clear_day_32': 17, 'rgb_clear_day_33': 17, 'rgb_clear_day_34': 17, 'rgb_clear_day_35': 17, 'rgb_clear_day_36': 17, 'rgb_clear_day_37': 17, 'rgb_clear_day_38': 17, 'rgb_clear_day_39': 17, 'rgb_clear_day_40': 17, 'rgb_clear_day_41': 17, 'rgb_clear_day_42': 17, 'rgb_clear_day_43': 17, 'rgb_clear_day_44': 17, 'rgb_clear_day_45': 17, 'rgb_clear_day_46': 17, 'rgb_clear_day_47': 17, 'rgb_clear_day_48': 17, 'rgb_clear_day_49': 17, 'rgb_clear_day_50': 17, 'rgb_clear_day_51': 17, 'rgb_clear_day_52': 17, 'rgb_clear_day_53': 17, 'rgb_clear_day_54': 17, 'rgb_clear_day_55': 17, 'rgb_clear_day_56': 17, 'rgb_clear_day_57': 17, 'rgb_clear_day_58': 17, 'rgb_clear_day_59': 17, 'rgb_clear_day_60': 17, 'rgb_clear_day_61': 17, 'rgb_clear_day_62': 17, 'rgb_clear_day_63': 17, 'rgb_clear_day_64': 17, 'rgb_clear_day_65': 17, 'rgb_clear_day_66': 17, 'rgb_clear_day_67': 17, 'rgb_clear_day_68': 17, 'rgb_clear_day_69': 17, 'rgb_clear_day_70': 17, 'rgb_clear_day_71': 17, 'rgb_clear_day_72': 17, 'rgb_clear_day_73': 17, 'rgb_clear_day_74': 17, 'rgb_clear_day_75': 17, 'rgb_clear_day_76': 17, 'rgb_clear_day_77': 17, 'rgb_clear_day_78': 17, 'rgb_clear_day_79': 17, 'rgb_clear_day_80': 17, 'rgb_clear_day_81': 17, 'rgb_clear_day_82': 17, 'rgb_clear_day_83': 17, 'rgb_clear_day_84': 17, 'rgb_clear_day_85': 17, 'rgb_clear_day_86': 17, 'rgb_clear_day_87': 17, 'rgb_clear_day_88': 17, 'rgb_clear_day_89': 17, 'rgb_clear_day_90': 17, 'rgb_clear_day_91': 17, 'rgb_clear_day_92': 17, 'rgb_clear_day_93': 17, 'rgb_clear_day_94': 17, 'rgb_clear_day_95': 17}\n",
      "Validation set sizes: {'rgb_clear_day_1': 2, 'rgb_clear_day_2': 2, 'rgb_clear_day_3': 2, 'rgb_clear_day_4': 2, 'rgb_clear_day_5': 2, 'rgb_clear_day_6': 2, 'rgb_clear_day_7': 2, 'rgb_clear_day_8': 2, 'rgb_clear_day_9': 2, 'rgb_clear_day_10': 2, 'rgb_clear_day_11': 2, 'rgb_clear_day_12': 2, 'rgb_clear_day_13': 2, 'rgb_clear_day_14': 2, 'rgb_clear_day_15': 2, 'rgb_clear_day_16': 2, 'rgb_clear_day_17': 2, 'rgb_clear_day_18': 2, 'rgb_clear_day_19': 2, 'rgb_clear_day_20': 2, 'rgb_clear_day_21': 2, 'rgb_clear_day_22': 2, 'rgb_clear_day_23': 2, 'rgb_clear_day_24': 2, 'rgb_clear_day_25': 2, 'rgb_clear_day_26': 2, 'rgb_clear_day_27': 2, 'rgb_clear_day_28': 2, 'rgb_clear_day_29': 2, 'rgb_clear_day_30': 2, 'rgb_clear_day_31': 2, 'rgb_clear_day_32': 2, 'rgb_clear_day_33': 2, 'rgb_clear_day_34': 2, 'rgb_clear_day_35': 2, 'rgb_clear_day_36': 2, 'rgb_clear_day_37': 2, 'rgb_clear_day_38': 2, 'rgb_clear_day_39': 2, 'rgb_clear_day_40': 2, 'rgb_clear_day_41': 2, 'rgb_clear_day_42': 2, 'rgb_clear_day_43': 2, 'rgb_clear_day_44': 2, 'rgb_clear_day_45': 2, 'rgb_clear_day_46': 2, 'rgb_clear_day_47': 2, 'rgb_clear_day_48': 2, 'rgb_clear_day_49': 2, 'rgb_clear_day_50': 2, 'rgb_clear_day_51': 2, 'rgb_clear_day_52': 2, 'rgb_clear_day_53': 2, 'rgb_clear_day_54': 2, 'rgb_clear_day_55': 2, 'rgb_clear_day_56': 2, 'rgb_clear_day_57': 2, 'rgb_clear_day_58': 2, 'rgb_clear_day_59': 2, 'rgb_clear_day_60': 2, 'rgb_clear_day_61': 2, 'rgb_clear_day_62': 2, 'rgb_clear_day_63': 2, 'rgb_clear_day_64': 2, 'rgb_clear_day_65': 2, 'rgb_clear_day_66': 2, 'rgb_clear_day_67': 2, 'rgb_clear_day_68': 2, 'rgb_clear_day_69': 2, 'rgb_clear_day_70': 2, 'rgb_clear_day_71': 2, 'rgb_clear_day_72': 2, 'rgb_clear_day_73': 2, 'rgb_clear_day_74': 2, 'rgb_clear_day_75': 2, 'rgb_clear_day_76': 2, 'rgb_clear_day_77': 2, 'rgb_clear_day_78': 2, 'rgb_clear_day_79': 2, 'rgb_clear_day_80': 2, 'rgb_clear_day_81': 2, 'rgb_clear_day_82': 2, 'rgb_clear_day_83': 2, 'rgb_clear_day_84': 2, 'rgb_clear_day_85': 2, 'rgb_clear_day_86': 2, 'rgb_clear_day_87': 2, 'rgb_clear_day_88': 2, 'rgb_clear_day_89': 2, 'rgb_clear_day_90': 2, 'rgb_clear_day_91': 2, 'rgb_clear_day_92': 2, 'rgb_clear_day_93': 2, 'rgb_clear_day_94': 2, 'rgb_clear_day_95': 2}\n",
      "Test set sizes: {'rgb_clear_day_1': 2, 'rgb_clear_day_2': 2, 'rgb_clear_day_3': 2, 'rgb_clear_day_4': 2, 'rgb_clear_day_5': 2, 'rgb_clear_day_6': 2, 'rgb_clear_day_7': 2, 'rgb_clear_day_8': 2, 'rgb_clear_day_9': 2, 'rgb_clear_day_10': 2, 'rgb_clear_day_11': 2, 'rgb_clear_day_12': 2, 'rgb_clear_day_13': 2, 'rgb_clear_day_14': 2, 'rgb_clear_day_15': 2, 'rgb_clear_day_16': 2, 'rgb_clear_day_17': 2, 'rgb_clear_day_18': 2, 'rgb_clear_day_19': 2, 'rgb_clear_day_20': 2, 'rgb_clear_day_21': 2, 'rgb_clear_day_22': 2, 'rgb_clear_day_23': 2, 'rgb_clear_day_24': 2, 'rgb_clear_day_25': 2, 'rgb_clear_day_26': 2, 'rgb_clear_day_27': 2, 'rgb_clear_day_28': 2, 'rgb_clear_day_29': 2, 'rgb_clear_day_30': 2, 'rgb_clear_day_31': 2, 'rgb_clear_day_32': 2, 'rgb_clear_day_33': 2, 'rgb_clear_day_34': 2, 'rgb_clear_day_35': 2, 'rgb_clear_day_36': 2, 'rgb_clear_day_37': 2, 'rgb_clear_day_38': 2, 'rgb_clear_day_39': 2, 'rgb_clear_day_40': 2, 'rgb_clear_day_41': 2, 'rgb_clear_day_42': 2, 'rgb_clear_day_43': 2, 'rgb_clear_day_44': 2, 'rgb_clear_day_45': 2, 'rgb_clear_day_46': 2, 'rgb_clear_day_47': 2, 'rgb_clear_day_48': 2, 'rgb_clear_day_49': 2, 'rgb_clear_day_50': 2, 'rgb_clear_day_51': 2, 'rgb_clear_day_52': 2, 'rgb_clear_day_53': 2, 'rgb_clear_day_54': 2, 'rgb_clear_day_55': 2, 'rgb_clear_day_56': 2, 'rgb_clear_day_57': 2, 'rgb_clear_day_58': 2, 'rgb_clear_day_59': 2, 'rgb_clear_day_60': 2, 'rgb_clear_day_61': 2, 'rgb_clear_day_62': 2, 'rgb_clear_day_63': 2, 'rgb_clear_day_64': 2, 'rgb_clear_day_65': 2, 'rgb_clear_day_66': 2, 'rgb_clear_day_67': 2, 'rgb_clear_day_68': 2, 'rgb_clear_day_69': 2, 'rgb_clear_day_70': 2, 'rgb_clear_day_71': 2, 'rgb_clear_day_72': 2, 'rgb_clear_day_73': 2, 'rgb_clear_day_74': 2, 'rgb_clear_day_75': 2, 'rgb_clear_day_76': 2, 'rgb_clear_day_77': 2, 'rgb_clear_day_78': 2, 'rgb_clear_day_79': 2, 'rgb_clear_day_80': 2, 'rgb_clear_day_81': 2, 'rgb_clear_day_82': 2, 'rgb_clear_day_83': 2, 'rgb_clear_day_84': 2, 'rgb_clear_day_85': 2, 'rgb_clear_day_86': 2, 'rgb_clear_day_87': 2, 'rgb_clear_day_88': 2, 'rgb_clear_day_89': 2, 'rgb_clear_day_90': 2, 'rgb_clear_day_91': 2, 'rgb_clear_day_92': 2, 'rgb_clear_day_93': 2, 'rgb_clear_day_94': 2, 'rgb_clear_day_95': 2}\n",
      "Lines in train.odgt: 1615\n",
      "Lines in validate.odgt: 190\n",
      "Lines in test.odgt: 190\n"
     ]
    }
   ],
   "source": [
    "def make_odgt(raw_folders, seg_folders, train_files, validate_files, test_files, output_dir):\n",
    "    os.makedirs(output_dir, exist_ok=True)\n",
    "\n",
    "    datasets = {\n",
    "        'train': train_files,\n",
    "        'validate': validate_files,\n",
    "        'test': test_files\n",
    "    }\n",
    "    \n",
    "    \n",
    "    for key, file_dict in datasets.items():\n",
    "        with open(os.path.join(output_dir, f'{key}.odgt'), 'w', encoding='utf-8') as odgt_file:\n",
    "            for weather, files in file_dict.items():  # Iterate over each weather condition\n",
    "                for raw in files:\n",
    "                    raw_path = os.path.abspath(os.path.join(raw_folders[weather], raw))\n",
    "                    ann_path = os.path.abspath(os.path.join(seg_folders[weather], raw))\n",
    "\n",
    "                    if not os.path.exists(raw_path) or not os.path.exists(ann_path):\n",
    "                        print(f\"Skipping missing file: {raw}\")\n",
    "                        continue\n",
    "\n",
    "                    raw_img = Image.open(raw_path)\n",
    "                    ann_img = Image.open(ann_path)\n",
    "                    assert raw_img.size == ann_img.size, f\"Size mismatch for {raw} in {weather}\"\n",
    "\n",
    "                    odgt_line = json.dumps({\n",
    "                        \"fpath_img\": raw_path,\n",
    "                        \"fpath_segm\": ann_path,\n",
    "                        \"width\": raw_img.width,\n",
    "                        \"height\": raw_img.height,\n",
    "                        \"weather\": weather  # Store weather condition\n",
    "                    })\n",
    "\n",
    "                    \n",
    "                    odgt_file.write(odgt_line + '\\n')\n",
    "\n",
    "    \n",
    "\n",
    "# Define paths\n",
    "data_root_dir = '/home/zhaob/Desktop/semantic-segmentation-pytorch/new_data'\n",
    "# weather_conditions = [\"_outRaw\", \"_outRaw_foggy\", \"_outRaw_night\"]\n",
    "# weather_conditions = [\"_outRaw_\", \"_outRaw_foggy\"]\n",
    "weather_conditions = [f\"rgb_clear_day_{i}\" for i in range(1, 96)]\n",
    "raw_folders = {w: os.path.join(data_root_dir, w) for w in weather_conditions}\n",
    "seg_folders = {w: os.path.join(data_root_dir, w.replace(\"rgb_\", \"rgb_seg_\")) for w in weather_conditions}\n",
    "\n",
    "# Collect only valid image files\n",
    "files_per_weather = {\n",
    "    w: sorted([f for f in os.listdir(raw_folders[w]) if f.endswith('.png')])\n",
    "    for w in weather_conditions\n",
    "}\n",
    "\n",
    "# Perform dataset split\n",
    "train, validate, test = train_validation_test_split(files_per_weather)\n",
    "\n",
    "print(f\"Train set sizes: { {w: len(train[w]) for w in train} }\")\n",
    "print(f\"Validation set sizes: { {w: len(validate[w]) for w in validate} }\")\n",
    "print(f\"Test set sizes: { {w: len(test[w]) for w in test} }\")\n",
    "\n",
    "# Create ODGT\n",
    "make_odgt(raw_folders, seg_folders, train, validate, test, 'odgt')\n",
    "\n",
    "print(f\"Lines in train.odgt: {sum(1 for _ in open('odgt/train.odgt', 'r', encoding='utf-8'))}\")\n",
    "print(f\"Lines in validate.odgt: {sum(1 for _ in open('odgt/validate.odgt', 'r', encoding='utf-8'))}\")\n",
    "print(f\"Lines in test.odgt: {sum(1 for _ in open('odgt/test.odgt', 'r', encoding='utf-8'))}\")"
   ]
  },
  {
   "cell_type": "code",
   "execution_count": null,
   "metadata": {},
   "outputs": [],
   "source": []
  },
  {
   "cell_type": "code",
   "execution_count": null,
   "metadata": {},
   "outputs": [],
   "source": []
  }
 ],
 "metadata": {
  "kernelspec": {
   "display_name": "cv4ad",
   "language": "python",
   "name": "python3"
  },
  "language_info": {
   "codemirror_mode": {
    "name": "ipython",
    "version": 3
   },
   "file_extension": ".py",
   "mimetype": "text/x-python",
   "name": "python",
   "nbconvert_exporter": "python",
   "pygments_lexer": "ipython3",
   "version": "3.12.8"
  }
 },
 "nbformat": 4,
 "nbformat_minor": 2
}
