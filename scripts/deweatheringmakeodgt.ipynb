{
 "cells": [
  {
   "cell_type": "code",
   "execution_count": 13,
   "metadata": {},
   "outputs": [],
   "source": [
    "import os\n",
    "import json\n",
    "import numpy as np\n",
    "import re\n",
    "from PIL import Image\n",
    "from collections import defaultdict\n"
   ]
  },
  {
   "cell_type": "code",
   "execution_count": 14,
   "metadata": {},
   "outputs": [],
   "source": [
    "def extract_numbers(filename):\n",
    "    numbers = re.findall(r'\\d+', filename)\n",
    "    return tuple(map(int, numbers)) if numbers else (float('inf'),)\n",
    "def get_base_name(filepath):\n",
    "    return os.path.splitext(os.path.basename(filepath))[0]"
   ]
  },
  {
   "cell_type": "code",
   "execution_count": 15,
   "metadata": {},
   "outputs": [],
   "source": [
    "def make_odgt(data_dir, out_file, original_odgt):\n",
    "    seg_files_dict = defaultdict(list)\n",
    "    \n",
    "    with open(original_odgt) as f:\n",
    "        for line in f:\n",
    "            match = re.search(r'\"fpath_segm\":\\s*\"(.*?)\"', line)\n",
    "            if match:\n",
    "                full_path = match.group(1)\n",
    "                base_name = get_base_name(full_path)\n",
    "                seg_files_dict[base_name].append(full_path)\n",
    "    \n",
    "    img_files = []\n",
    "    for root, _, files in os.walk(data_dir):\n",
    "        for file in files:\n",
    "            if file.endswith('.png'):\n",
    "                img_files.append(os.path.join(root, file))\n",
    "    \n",
    "    img_files.sort(key=lambda x: extract_numbers(os.path.basename(x)))\n",
    "    \n",
    "    if not os.path.exists(os.path.dirname(out_file)):\n",
    "        os.makedirs(os.path.dirname(out_file))\n",
    "    \n",
    "    matched_entries = []\n",
    "    seg_counters = defaultdict(int)\n",
    "    \n",
    "    for img_path in img_files:\n",
    "        img_base_name = re.match(r'(\\d+)', get_base_name(img_path))\n",
    "        if img_base_name:\n",
    "            img_base_name = img_base_name.group(1)\n",
    "            if img_base_name in seg_files_dict:\n",
    "                seg_index = seg_counters[img_base_name]\n",
    "                if seg_index < len(seg_files_dict[img_base_name]):\n",
    "                    seg_path = seg_files_dict[img_base_name][seg_index]\n",
    "                    seg_counters[img_base_name] += 1\n",
    "                    img = Image.open(img_path)\n",
    "                    img_info = {\n",
    "                        'fpath_img': img_path,\n",
    "                        'fpath_segm': seg_path,\n",
    "                        'width': img.width,\n",
    "                        'height': img.height\n",
    "                    }\n",
    "                    matched_entries.append(img_info)\n",
    "    \n",
    "    with open(out_file, 'w', encoding='utf-8') as f:\n",
    "        for entry in matched_entries:\n",
    "            f.write(json.dumps(entry) + '\\n')\n",
    "\n",
    "    \n",
    "\n",
    "data_dir = '/home/zhaob/Desktop/semantic-segmentation-pytorch/new_data/rainy_deweathered'\n",
    "original_odgt = '/home/zhaob/Desktop/semantic-segmentation-pytorch/new_data/odgt_rainy_day/test.odgt'\n",
    "out_file = '/home/zhaob/Desktop/semantic-segmentation-pytorch/new_data/rainy_deweatheredJulian/test.odgt'\n",
    "make_odgt(data_dir, out_file, original_odgt)\n"
   ]
  },
  {
   "cell_type": "code",
   "execution_count": null,
   "metadata": {},
   "outputs": [],
   "source": []
  },
  {
   "cell_type": "code",
   "execution_count": null,
   "metadata": {},
   "outputs": [],
   "source": []
  },
  {
   "cell_type": "code",
   "execution_count": null,
   "metadata": {},
   "outputs": [],
   "source": []
  }
 ],
 "metadata": {
  "kernelspec": {
   "display_name": "cv4ad",
   "language": "python",
   "name": "python3"
  },
  "language_info": {
   "codemirror_mode": {
    "name": "ipython",
    "version": 3
   },
   "file_extension": ".py",
   "mimetype": "text/x-python",
   "name": "python",
   "nbconvert_exporter": "python",
   "pygments_lexer": "ipython3",
   "version": "3.12.8"
  }
 },
 "nbformat": 4,
 "nbformat_minor": 2
}
