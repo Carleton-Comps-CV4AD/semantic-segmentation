{
 "cells": [
  {
   "cell_type": "code",
   "execution_count": 12,
   "metadata": {},
   "outputs": [],
   "source": [
    "import os\n",
    "import numpy as np\n",
    "from PIL import Image\n",
    "import re\n",
    "import shutil"
   ]
  },
  {
   "cell_type": "code",
   "execution_count": 13,
   "metadata": {},
   "outputs": [],
   "source": [
    "data_dir = '/home/zhaob/Desktop/semantic-segmentation-pytorch/new_data'\n",
    "target_dir = os.path.join(data_dir, 'collected_images')\n",
    "\n",
    "os.makedirs(target_dir, exist_ok=True)\n",
    "odgt_file = os.path.join(data_dir, 'odgt_foggy_day', 'test.odgt')\n",
    "\n",
    "\n",
    "\n",
    "with open(odgt_file) as f:\n",
    "  for line in f:\n",
    "    match = re.search(r'\"fpath_img\":\\s*\"(.*?)\"', line)\n",
    "    if match:\n",
    "      value = match.group(1)\n",
    "      base_name = os.path.basename(value)\n",
    "      target_path = os.path.join(target_dir, base_name)\n",
    "      counter = 1 \n",
    "\n",
    "      while os.path.exists(target_path):\n",
    "        name, ext = os.path.splitext(base_name)\n",
    "        new_name = f'{name}_{counter}{ext}'\n",
    "        target_path = os.path.join(target_dir, new_name)\n",
    "        counter += 1\n",
    "      shutil.copy(value, target_path)\n",
    "    else:\n",
    "      raise ValueError('No match')\n"
   ]
  }
 ],
 "metadata": {
  "kernelspec": {
   "display_name": "cv4ad",
   "language": "python",
   "name": "python3"
  },
  "language_info": {
   "codemirror_mode": {
    "name": "ipython",
    "version": 3
   },
   "file_extension": ".py",
   "mimetype": "text/x-python",
   "name": "python",
   "nbconvert_exporter": "python",
   "pygments_lexer": "ipython3",
   "version": "3.12.8"
  }
 },
 "nbformat": 4,
 "nbformat_minor": 2
}
