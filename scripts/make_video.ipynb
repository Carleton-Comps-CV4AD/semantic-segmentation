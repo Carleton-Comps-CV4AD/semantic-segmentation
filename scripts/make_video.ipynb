{
 "cells": [
  {
   "cell_type": "code",
   "execution_count": 19,
   "metadata": {},
   "outputs": [],
   "source": [
    "import os\n",
    "import json\n",
    "import numpy as np\n",
    "import re\n",
    "from PIL import Image"
   ]
  },
  {
   "cell_type": "code",
   "execution_count": 20,
   "metadata": {},
   "outputs": [],
   "source": [
    "def make_odgt(data_dir, out_file, seg_dir):\n",
    "    \n",
    "   \n",
    "    img_files = []\n",
    "    for root, _, files in os.walk(data_dir):\n",
    "        for file in files:\n",
    "            if file.endswith('.png'):\n",
    "                img_files.append(os.path.join(root, file))\n",
    "    \n",
    "    seg_files = []\n",
    "    for root, _, files in os.walk(seg_dir):\n",
    "        for file in files:\n",
    "            if file.endswith('.png'):\n",
    "                seg_files.append(os.path.join(root, file))\n",
    "    \n",
    "    \n",
    "\n",
    "    \n",
    "    if not os.path.exists(os.path.dirname(out_file)):\n",
    "        os.makedirs(os.path.dirname(out_file))\n",
    "    \n",
    "    out = []\n",
    "    for file, seg_file in zip(img_files, seg_files):\n",
    "        img = Image.open(file)\n",
    "        seg = Image.open(seg_file)\n",
    "        img_info = {\n",
    "            'fpath_img': file,\n",
    "            'fpath_segm': seg_file,\n",
    "            'width': img.width,\n",
    "            'height': img.height\n",
    "        }\n",
    "        out.append(img_info)\n",
    "    \n",
    "    with open(out_file, 'w', encoding='utf-8') as f:\n",
    "        for entry in out:\n",
    "            f.write(json.dumps(entry) + '\\n')\n",
    "\n",
    "    \n",
    "\n",
    "data_dir = '/home/zhaob/Desktop/semantic-segmentation-pytorch/new_data/rgb_foggy_day1'\n",
    "seg_dir = '/home/zhaob/Desktop/semantic-segmentation-pytorch/new_data/rgb_seg_foggy_day_1'\n",
    "out_file = '/home/zhaob/Desktop/semantic-segmentation-pytorch/new_data/foggy_video/test.odgt'\n",
    "make_odgt(data_dir, out_file, seg_dir)"
   ]
  }
 ],
 "metadata": {
  "kernelspec": {
   "display_name": "cv4ad",
   "language": "python",
   "name": "python3"
  },
  "language_info": {
   "codemirror_mode": {
    "name": "ipython",
    "version": 3
   },
   "file_extension": ".py",
   "mimetype": "text/x-python",
   "name": "python",
   "nbconvert_exporter": "python",
   "pygments_lexer": "ipython3",
   "version": "3.12.8"
  }
 },
 "nbformat": 4,
 "nbformat_minor": 2
}
