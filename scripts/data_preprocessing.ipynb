{
 "cells": [
  {
   "cell_type": "code",
   "execution_count": 2,
   "metadata": {},
   "outputs": [],
   "source": [
    "import os\n",
    "import numpy as np\n",
    "from PIL import Image"
   ]
  },
  {
   "cell_type": "code",
   "execution_count": 3,
   "metadata": {},
   "outputs": [],
   "source": [
    "def train_validation_test_split(raw_data, annotated_data, train_percent=0.8, validation_percent=0.1, test_percent=0.1):\n",
    "  assert train_percent + validation_percent + test_percent == 1.0\n",
    "  raw_files = os.listdir(raw_data)\n",
    "  annotated_files = os.listdir(annotated_data)\n",
    "  assert len(raw_files) == len(annotated_files)\n",
    "  num_files = len(raw_files)\n",
    "\n",
    "  train_indices = np.random.choice(num_files, size=int(num_files * train_percent), replace=False)\n",
    "  remaining_indices = np.setdiff1d(np.arange(num_files), train_indices)\n",
    "  validation_indices = np.random.choice(remaining_indices, size=int(num_files * validation_percent), replace=False)\n",
    "  test_indices = np.setdiff1d(remaining_indices, validation_indices)\n",
    "  \n",
    "  for raw, ann in zip(sorted(raw_files), sorted(annotated_files)):\n",
    "    raw_index = int(raw.split('.')[0].split('_')[1])\n",
    "    ann_index = int(ann.split('.')[0].split('_')[1])\n",
    "    assert raw_index == ann_index\n",
    "    if (raw_index not in train_indices) and (raw_index not in validation_indices) and (raw_index not in test_indices):\n",
    "      raise ValueError('Index not found in any set')\n",
    "    \n",
    "  return train_indices, validation_indices, test_indices\n",
    "\n",
    "train, validate, test = train_validation_test_split('_outRaw', '_outSeg')"
   ]
  },
  {
   "cell_type": "code",
   "execution_count": 4,
   "metadata": {},
   "outputs": [
    {
     "ename": "FileNotFoundError",
     "evalue": "[Errno 2] No such file or directory: '/Data/toledod/collectedData/trafficPath/raw_0.png'",
     "output_type": "error",
     "traceback": [
      "\u001b[0;31m---------------------------------------------------------------------------\u001b[0m",
      "\u001b[0;31mFileNotFoundError\u001b[0m                         Traceback (most recent call last)",
      "Cell \u001b[0;32mIn[4], line 30\u001b[0m\n\u001b[1;32m     27\u001b[0m       \u001b[38;5;28;01mwith\u001b[39;00m \u001b[38;5;28mopen\u001b[39m(os\u001b[38;5;241m.\u001b[39mpath\u001b[38;5;241m.\u001b[39mjoin(out_dir, \u001b[38;5;124m'\u001b[39m\u001b[38;5;124mtest.odgt\u001b[39m\u001b[38;5;124m'\u001b[39m), \u001b[38;5;124m'\u001b[39m\u001b[38;5;124ma\u001b[39m\u001b[38;5;124m'\u001b[39m) \u001b[38;5;28;01mas\u001b[39;00m f:\n\u001b[1;32m     28\u001b[0m         f\u001b[38;5;241m.\u001b[39mwrite(\u001b[38;5;28mstr\u001b[39m(odgt_line) \u001b[38;5;241m+\u001b[39m \u001b[38;5;124m'\u001b[39m\u001b[38;5;130;01m\\n\u001b[39;00m\u001b[38;5;124m'\u001b[39m)\n\u001b[0;32m---> 30\u001b[0m \u001b[43mmake_odgt\u001b[49m\u001b[43m(\u001b[49m\u001b[38;5;124;43m'\u001b[39;49m\u001b[38;5;124;43m_outRaw\u001b[39;49m\u001b[38;5;124;43m'\u001b[39;49m\u001b[43m,\u001b[49m\u001b[43m \u001b[49m\u001b[38;5;124;43m'\u001b[39;49m\u001b[38;5;124;43m_outSeg\u001b[39;49m\u001b[38;5;124;43m'\u001b[39;49m\u001b[43m,\u001b[49m\u001b[43m \u001b[49m\u001b[43mtrain\u001b[49m\u001b[43m,\u001b[49m\u001b[43m \u001b[49m\u001b[43mvalidate\u001b[49m\u001b[43m,\u001b[49m\u001b[43m \u001b[49m\u001b[43mtest\u001b[49m\u001b[43m,\u001b[49m\u001b[43m \u001b[49m\u001b[38;5;124;43m'\u001b[39;49m\u001b[38;5;124;43modgt\u001b[39;49m\u001b[38;5;124;43m'\u001b[39;49m\u001b[43m)\u001b[49m\n",
      "Cell \u001b[0;32mIn[4], line 10\u001b[0m, in \u001b[0;36mmake_odgt\u001b[0;34m(raw_data, annotated_data, train_idx, validate_idx, test_idx, out_dir)\u001b[0m\n\u001b[1;32m      7\u001b[0m ann_index \u001b[38;5;241m=\u001b[39m \u001b[38;5;28mint\u001b[39m(ann\u001b[38;5;241m.\u001b[39msplit(\u001b[38;5;124m'\u001b[39m\u001b[38;5;124m.\u001b[39m\u001b[38;5;124m'\u001b[39m)[\u001b[38;5;241m0\u001b[39m]\u001b[38;5;241m.\u001b[39msplit(\u001b[38;5;124m'\u001b[39m\u001b[38;5;124m_\u001b[39m\u001b[38;5;124m'\u001b[39m)[\u001b[38;5;241m1\u001b[39m])\n\u001b[1;32m      8\u001b[0m \u001b[38;5;28;01massert\u001b[39;00m raw_index \u001b[38;5;241m==\u001b[39m ann_index\n\u001b[0;32m---> 10\u001b[0m raw \u001b[38;5;241m=\u001b[39m \u001b[43mImage\u001b[49m\u001b[38;5;241;43m.\u001b[39;49m\u001b[43mopen\u001b[49m\u001b[43m(\u001b[49m\u001b[43mraw\u001b[49m\u001b[43m)\u001b[49m\n\u001b[1;32m     11\u001b[0m ann \u001b[38;5;241m=\u001b[39m Image\u001b[38;5;241m.\u001b[39mopen(ann)\n\u001b[1;32m     12\u001b[0m width, height \u001b[38;5;241m=\u001b[39m raw\u001b[38;5;241m.\u001b[39msize\n",
      "File \u001b[0;32m~/miniconda3/lib/python3.12/site-packages/PIL/Image.py:3469\u001b[0m, in \u001b[0;36mopen\u001b[0;34m(fp, mode, formats)\u001b[0m\n\u001b[1;32m   3466\u001b[0m     filename \u001b[38;5;241m=\u001b[39m os\u001b[38;5;241m.\u001b[39mpath\u001b[38;5;241m.\u001b[39mrealpath(os\u001b[38;5;241m.\u001b[39mfspath(fp))\n\u001b[1;32m   3468\u001b[0m \u001b[38;5;28;01mif\u001b[39;00m filename:\n\u001b[0;32m-> 3469\u001b[0m     fp \u001b[38;5;241m=\u001b[39m \u001b[43mbuiltins\u001b[49m\u001b[38;5;241;43m.\u001b[39;49m\u001b[43mopen\u001b[49m\u001b[43m(\u001b[49m\u001b[43mfilename\u001b[49m\u001b[43m,\u001b[49m\u001b[43m \u001b[49m\u001b[38;5;124;43m\"\u001b[39;49m\u001b[38;5;124;43mrb\u001b[39;49m\u001b[38;5;124;43m\"\u001b[39;49m\u001b[43m)\u001b[49m\n\u001b[1;32m   3470\u001b[0m     exclusive_fp \u001b[38;5;241m=\u001b[39m \u001b[38;5;28;01mTrue\u001b[39;00m\n\u001b[1;32m   3471\u001b[0m \u001b[38;5;28;01melse\u001b[39;00m:\n",
      "\u001b[0;31mFileNotFoundError\u001b[0m: [Errno 2] No such file or directory: '/Data/toledod/collectedData/trafficPath/raw_0.png'"
     ]
    }
   ],
   "source": [
    "def make_odgt(raw_data, annotated_data, train_idx, validate_idx, test_idx, out_dir):\n",
    "  raw_files = os.listdir(raw_data)\n",
    "  annotated_files = os.listdir(annotated_data)\n",
    "  assert len(raw_files) == len(annotated_files)\n",
    "  for raw, ann in zip(sorted(raw_files), sorted(annotated_files)):\n",
    "    raw_index = int(raw.split('.')[0].split('_')[1])\n",
    "    ann_index = int(ann.split('.')[0].split('_')[1])\n",
    "    assert raw_index == ann_index\n",
    "\n",
    "    raw = Image.open(raw)\n",
    "    ann = Image.open(ann)\n",
    "    width, height = raw.size\n",
    "    ann_width, ann_height = ann.size\n",
    "    assert width == ann_width\n",
    "    assert height == ann_height\n",
    "    \n",
    "    raw_path = os.path.join(raw_data, raw)\n",
    "    ann_path = os.path.join(annotated_data, ann)\n",
    "    odgt_line = {\"path_img\": raw_path, \"fpath_segm\": ann_path, \"width\": {width}, \"height\": {height}}\n",
    "    if raw_index in train_idx:\n",
    "      with open(os.path.join(out_dir, 'train.odgt'), 'a') as f:\n",
    "        f.write(str(odgt_line) + '\\n')\n",
    "    elif raw_index in validate_idx:\n",
    "      with open(os.path.join(out_dir, 'validate.odgt'), 'a') as f:\n",
    "        f.write(str(odgt_line) + '\\n')\n",
    "    elif raw_index in test_idx:\n",
    "      with open(os.path.join(out_dir, 'test.odgt'), 'a') as f:\n",
    "        f.write(str(odgt_line) + '\\n')\n",
    "    \n",
    "make_odgt('_outRaw', '_outSeg', train, validate, test, 'odgt')"
   ]
  },
  {
   "cell_type": "code",
   "execution_count": null,
   "metadata": {},
   "outputs": [],
   "source": []
  }
 ],
 "metadata": {
  "kernelspec": {
   "display_name": "base",
   "language": "python",
   "name": "python3"
  },
  "language_info": {
   "codemirror_mode": {
    "name": "ipython",
    "version": 3
   },
   "file_extension": ".py",
   "mimetype": "text/x-python",
   "name": "python",
   "nbconvert_exporter": "python",
   "pygments_lexer": "ipython3",
   "version": "3.12.7"
  }
 },
 "nbformat": 4,
 "nbformat_minor": 2
}
