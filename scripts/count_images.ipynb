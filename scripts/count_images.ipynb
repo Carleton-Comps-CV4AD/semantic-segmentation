{
 "cells": [
  {
   "cell_type": "code",
   "execution_count": 5,
   "metadata": {},
   "outputs": [],
   "source": [
    "import os\n",
    "from PIL import Image\n",
    "import numpy as np"
   ]
  },
  {
   "cell_type": "code",
   "execution_count": 6,
   "metadata": {},
   "outputs": [
    {
     "name": "stdout",
     "output_type": "stream",
     "text": [
      "/home/zhaob/Desktop/semantic-segmentation-pytorch/new_data/foggy_deweathered\n",
      "[]\n",
      "['298_8.png', '232_7.png', '58_4.png', '66_5.png', '307_1.png', '348_3.png', '298_3.png', '124_3.png', '17_2.png', '0_11.png', '290_2.png', '249_1.png', '307_16.png', '365_5.png', '8_8.png', '0_3.png', '58_3.png', '116_1.png', '307_3.png', '307_9.png', '240_3.png', '124_15.png', '356_5.png', '0_2.png', '365.png', '356_3.png', '124_12.png', '191_1.png', '124_8.png', '8_6.png', '290_5.png', '17_6.png', '58_6.png', '8_5.png', '191_5.png', '307_5.png', '191_6.png', '8_11.png', '174_3.png', '116_3.png', '232_3.png', '348_6.png', '17.png', '133_1.png', '191.png', '66_4.png', '191_8.png', '232.png', '116_7.png', '365_1.png', '232_5.png', '298_7.png', '307_7.png', '75_1.png', '58_5.png', '290_6.png', '8_4.png', '8_7.png', '66_2.png', '348_2.png', '298_6.png', '75_9.png', '182_2.png', '232_1.png', '174_4.png', '174.png', '75_8.png', '124_9.png', '191_7.png', '133_2.png', '75_2.png', '232_9.png', '0_8.png', '232_8.png', '348.png', '191_2.png', '0_9.png', '307_8.png', '298_5.png', '191_3.png', '365_3.png', '124_5.png', '290_7.png', '232_11.png', '348_1.png', '191_10.png', '348_5.png', '17_5.png', '17_7.png', '240_1.png', '58_2.png', '348_4.png', '232_10.png', '124_2.png', '0_5.png', '75_4.png', '8.png', '290_3.png', '116_12.png', '66_3.png', '356_4.png', '0_7.png', '365_4.png', '75_5.png', '307_4.png', '174_1.png', '249.png', '116_2.png', '8_2.png', '124_10.png', '0_4.png', '191_9.png', '0_6.png', '240_2.png', '0.png', '8_1.png', '116_13.png', '182_4.png', '356_2.png', '116.png', '124_1.png', '307_10.png', '307_6.png', '182_3.png', '124_4.png', '182.png', '232_6.png', '124_14.png', '307_13.png', '124_11.png', '307_14.png', '17_4.png', '8_9.png', '66_1.png', '290_4.png', '182_1.png', '356.png', '116_4.png', '298_1.png', '17_3.png', '174_5.png', '307_2.png', '365_6.png', '307_15.png', '116_10.png', '124_13.png', '232_13.png', '58.png', '298_4.png', '232_4.png', '124_7.png', '298_10.png', '116_8.png', '290_1.png', '17_9.png', '8_10.png', '116_5.png', '8_3.png', '58_1.png', '0_1.png', '75_6.png', '298.png', '17_10.png', '174_2.png', '133.png', '365_2.png', '124.png', '307_12.png', '133_3.png', '75.png', '298_2.png', '75_3.png', '191_4.png', '124_6.png', '232_12.png', '17_8.png', '116_9.png', '66.png', '75_7.png', '290.png', '356_1.png', '0_10.png', '307_11.png', '298_9.png', '307.png', '17_1.png', '232_2.png', '116_6.png', '365_7.png', '116_11.png']\n",
      "190\n"
     ]
    }
   ],
   "source": [
    "root_dir = '/home/zhaob/Desktop/semantic-segmentation-pytorch/new_data/foggy_deweathered'\n",
    "\n",
    "count = 0\n",
    "for root, dirs, files in os.walk(root_dir):\n",
    "    print(root)\n",
    "    print(dirs)\n",
    "    print(files)\n",
    "    for file in files:\n",
    "        if file.endswith('.png'):\n",
    "            count += 1\n",
    "            img = Image.open(os.path.join(root, file))\n",
    "            # print(img)\n",
    "            # img = np.array(img)\n",
    "            # print(img.shape)\n",
    "            # print(np.unique(img))\n",
    "            # print(np.max(img))\n",
    "            # print(np.min(img))\n",
    "            # print('-----------------')\n",
    "            # if count == 1:\n",
    "            #     break\n",
    "    # break\n",
    "print(count)\n"
   ]
  }
 ],
 "metadata": {
  "kernelspec": {
   "display_name": "cv4ad",
   "language": "python",
   "name": "python3"
  },
  "language_info": {
   "codemirror_mode": {
    "name": "ipython",
    "version": 3
   },
   "file_extension": ".py",
   "mimetype": "text/x-python",
   "name": "python",
   "nbconvert_exporter": "python",
   "pygments_lexer": "ipython3",
   "version": "3.12.8"
  }
 },
 "nbformat": 4,
 "nbformat_minor": 2
}
