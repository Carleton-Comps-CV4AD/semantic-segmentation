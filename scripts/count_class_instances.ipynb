{
 "cells": [
  {
   "cell_type": "code",
   "execution_count": 1,
   "metadata": {},
   "outputs": [],
   "source": [
    "import os\n",
    "import numpy as np\n",
    "from PIL import Image\n",
    "import re"
   ]
  },
  {
   "cell_type": "code",
   "execution_count": 8,
   "metadata": {},
   "outputs": [],
   "source": [
    "class_labels = {\n",
    "  0: \"Roads\",\n",
    "  1: \"SideWalks\",\n",
    "  2: \"Building\",\n",
    "  3: \"Wall\",\n",
    "  4: \"Fence\",\n",
    "  5: \"Pole\",\n",
    "  6: \"TrafficLight\",\n",
    "  7: \"TrafficSign\",\n",
    "  8: \"Vegetation\",\n",
    "  9: \"Terrain\",\n",
    "  10: \"Sky\",\n",
    "  11: \"Pedestrian\",\n",
    "  12: \"Rider\",\n",
    "  13: \"Car\",\n",
    "  14: \"Truck\",\n",
    "  15: \"Bus\",\n",
    "  16: \"Train\",\n",
    "  17: \"Motorcycle\",\n",
    "  18: \"Bicycle\",\n",
    "  19: \"Static\",\n",
    "  20: \"Dynamic\",\n",
    "  21: \"Other\",\n",
    "  22: \"Water\",\n",
    "  23: \"RoadLine\",\n",
    "  24: \"Ground\",\n",
    "  25: \"Bridge\",\n",
    "  26: \"RailTrack\",\n",
    "  27: \"GuardRail\",\n",
    "  28: \"Unlabeled\"\n",
    "}\n",
    "\n"
   ]
  },
  {
   "cell_type": "code",
   "execution_count": 10,
   "metadata": {},
   "outputs": [
    {
     "data": {
      "text/plain": [
       "[('SideWalks', 1000),\n",
       " ('Building', 1000),\n",
       " ('Wall', 1000),\n",
       " ('TrafficLight', 1000),\n",
       " ('Dynamic', 1000),\n",
       " ('Ground', 1000),\n",
       " ('Other', 994),\n",
       " ('Water', 994),\n",
       " ('Vegetation', 986),\n",
       " ('Pedestrian', 977),\n",
       " ('Terrain', 976),\n",
       " ('Truck', 944),\n",
       " ('Rider', 883),\n",
       " ('TrafficSign', 830),\n",
       " ('Sky', 821),\n",
       " ('Bridge', 700),\n",
       " ('Pole', 354),\n",
       " ('Bicycle', 322),\n",
       " ('RoadLine', 305),\n",
       " ('Fence', 297),\n",
       " ('Static', 214),\n",
       " ('Roads', 136),\n",
       " ('Bus', 102),\n",
       " ('GuardRail', 74),\n",
       " ('Car', 0),\n",
       " ('Train', 0),\n",
       " ('Motorcycle', 0),\n",
       " ('RailTrack', 0),\n",
       " ('Unlabeled', 0)]"
      ]
     },
     "execution_count": 10,
     "metadata": {},
     "output_type": "execute_result"
    }
   ],
   "source": [
    "data_dir = '/Data/1_17_clear_day'\n",
    "seg_dir = os.path.join(data_dir, '_outSeg')\n",
    "odgt_file = os.path.join(data_dir, 'odgt', 'train.odgt')\n",
    "class_count = {label: 0 for label in class_labels.values()}\n",
    "\n",
    "train_images = []\n",
    "with open(odgt_file) as f:\n",
    "  for line in f:\n",
    "    match = re.search(r'\"_(.*?)\\.png\"', line)\n",
    "    if match:\n",
    "      value = match.group(1).split(\"/\")[-1]\n",
    "      train_images.append(value)\n",
    "    else:\n",
    "      raise ValueError('No match')\n",
    "    \n",
    "for file in os.listdir(seg_dir):\n",
    "  if file.split('.')[0] not in train_images:\n",
    "    continue\n",
    "  file = Image.open(os.path.join(seg_dir, file))\n",
    "  image_array = np.unique(np.array(file)[:,:,0].flatten())\n",
    "  for i in image_array:\n",
    "    class_count[class_labels[i]] += 1\n",
    "\n",
    "sorted(class_count.items(), key=lambda x: x[1], reverse=True)"
   ]
  },
  {
   "cell_type": "code",
   "execution_count": 4,
   "metadata": {},
   "outputs": [],
   "source": [
    "# from scipy.io import loadmat\n",
    "# import scipy.io as sio\n",
    "\n",
    "# # Load the .mat file\n",
    "# mat_data = loadmat('semantic-segmentation-pytorch/data/color_29.mat')\n",
    "\n",
    "# # Inspect the keys (variables in the .mat file)\n",
    "# keys = mat_data.keys()\n",
    "# print(mat_data.keys())\n",
    "\n",
    "# # Extract the color map\n",
    "# color_map = mat_data['colors']\n",
    "# # print(color_map)\n",
    "\n",
    "# print(mat_data)"
   ]
  },
  {
   "cell_type": "code",
   "execution_count": null,
   "metadata": {},
   "outputs": [],
   "source": []
  }
 ],
 "metadata": {
  "kernelspec": {
   "display_name": "cv4ad",
   "language": "python",
   "name": "python3"
  },
  "language_info": {
   "codemirror_mode": {
    "name": "ipython",
    "version": 3
   },
   "file_extension": ".py",
   "mimetype": "text/x-python",
   "name": "python",
   "nbconvert_exporter": "python",
   "pygments_lexer": "ipython3",
   "version": "3.8.20"
  }
 },
 "nbformat": 4,
 "nbformat_minor": 2
}
